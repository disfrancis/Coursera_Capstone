{
 "cells": [
  {
   "cell_type": "markdown",
   "id": "a2241660",
   "metadata": {},
   "source": [
    "THe Battle of Neighbourhoods"
   ]
  },
  {
   "cell_type": "code",
   "execution_count": null,
   "id": "598bd12d",
   "metadata": {},
   "outputs": [],
   "source": [
    "Peer-graded Assignment: Capstone Project - The Battle of Neighborhoods\n",
    "\n",
    "\n",
    "Now that you have been equipped with the skills and the tools to use location data to explore a geographical location, over the course of two weeks, you will have the opportunity to be as creative as you want and come up with an idea to leverage the Foursquare location data to explore or compare neighborhoods or cities of your choice or to come up with a problem that you can use the Foursquare location data to solve.\n",
    "\n",
    "1) Introduction/Business Problem\n",
    "\n",
    "The idea of this study is to help people planning to open a new restaurant in Toronto to chose the right location by providing data about the income and population of each neighborhood as well as the competitors already present on the same regions.\n",
    "\n",
    "2) Downloading and Prepping Data\n",
    "\n",
    "To provide the stakeholders the necessary information I'll be combining Toronto's 2016 Census that contains Population, Average income per Neighborhood with Toronot's Neighborhoods shapefile and Foursquare API to collect competitors on the same neighborhoods.\n",
    "\n",
    "Toronto's Census data is publicly available at this website: https://www.toronto.ca/city-government/data-research-maps/open-data/open-data-catalogue/#8c732154-5012-9afe-d0cd-ba3ffc813d5a\n",
    "\n",
    "Toronto Neighborhoods' shapefile is publicly available at this website: https://www.toronto.ca/city-government/data-research-maps/open-data/open-data-catalogue/#a45bd45a-ede8-730e-1abc-93105b2c439f\n",
    "\n",
    "3) Methodology\n",
    "\n",
    "For this report I used a few different maps that could help a new investor to decide the best neighborhood to open a restaurant in Toronto based on it's income, population and available competitors. In order to do that I've used the 2016 Census information combined with choropleth maps to visually display the wealthier and more populational neighborhoods and Foursquare data to display the current restaurants in each region.\n",
    "\n",
    "4) Results\n",
    "\n",
    "Comparing the maps we can notice the majority of the restaurants grouped on main streets and on the south of the city, although some of the welthiest neighborhoods are up to the north. Also, the areas with a dense population don't reflect on the number of restaurants.\n",
    "\n",
    "5) Discussion\n",
    "\n",
    "When I first decided to create this study I was expecting to find clusters of restaurants in certain regions and the final result didn't meet that expectation.\n",
    "\n",
    "6) Conclusion\n",
    "\n",
    "This report may be helpful for someone planning on opening a restaurant in Toronto, by comparing the current offers and neighborhoods profiles, however it may not cover all variables such as access to public transportation or even the restaurants profiles, so it shall not be used as a single decidion making tool."
   ]
  },
  {
   "cell_type": "markdown",
   "id": "62c5cf04",
   "metadata": {},
   "source": [
    "Data"
   ]
  },
  {
   "cell_type": "code",
   "execution_count": 1,
   "id": "4ce75e58",
   "metadata": {},
   "outputs": [
    {
     "name": "stdout",
     "output_type": "stream",
     "text": [
      "Collecting package metadata (current_repodata.json): done\n",
      "Solving environment: done\n",
      "\n",
      "## Package Plan ##\n",
      "\n",
      "  environment location: /Users/mudidisi/opt/anaconda3\n",
      "\n",
      "  added / updated specs:\n",
      "    - geopy\n",
      "\n",
      "\n",
      "The following packages will be downloaded:\n",
      "\n",
      "    package                    |            build\n",
      "    ---------------------------|-----------------\n",
      "    geographiclib-1.52         |     pyhd8ed1ab_0          35 KB  conda-forge\n",
      "    geopy-2.2.0                |     pyhd8ed1ab_0          67 KB  conda-forge\n",
      "    ------------------------------------------------------------\n",
      "                                           Total:         102 KB\n",
      "\n",
      "The following NEW packages will be INSTALLED:\n",
      "\n",
      "  geographiclib      conda-forge/noarch::geographiclib-1.52-pyhd8ed1ab_0\n",
      "  geopy              conda-forge/noarch::geopy-2.2.0-pyhd8ed1ab_0\n",
      "\n",
      "\n",
      "\n",
      "Downloading and Extracting Packages\n",
      "geographiclib-1.52   | 35 KB     | ##################################### | 100% \n",
      "geopy-2.2.0          | 67 KB     | ##################################### | 100% \n",
      "Preparing transaction: done\n",
      "Verifying transaction: done\n",
      "Executing transaction: done\n",
      "Collecting package metadata (current_repodata.json): done\n",
      "Solving environment: done\n",
      "\n",
      "# All requested packages already installed.\n",
      "\n",
      "Libraries imported.\n"
     ]
    }
   ],
   "source": [
    "import numpy as np # library to handle data in a vectorized manner\n",
    "\n",
    "import pandas as pd # library for data analsysis\n",
    "pd.set_option('display.max_columns', None)\n",
    "pd.set_option('display.max_rows', None)\n",
    "\n",
    "!conda install -c conda-forge geopy --yes # uncomment this line if you haven't completed the Foursquare API lab\n",
    "from geopy.geocoders import Nominatim # convert an address into latitude and longitude values\n",
    "\n",
    "!conda install -c conda-forge folium=0.5.0 --yes # uncomment this line if you haven't completed the Foursquare API lab\n",
    "import folium # map rendering library\n",
    "\n",
    "print('Libraries imported.')"
   ]
  },
  {
   "cell_type": "code",
   "execution_count": null,
   "id": "bf9ca735",
   "metadata": {},
   "outputs": [],
   "source": [
    "# Toronto Open Data Catalogue - Neighbourhood Profiles 2016 (CSV)\n",
    "# https://www.toronto.ca/city-government/data-research-maps/open-data/open-data-catalogue/#8c732154-5012-9afe-d0cd-ba3ffc813d5a\n",
    "\n",
    "csv_path='https://www.toronto.ca/ext/open_data/catalog/data_set_files/2016_neighbourhood_profiles.csv'\n",
    "df = pd.read_csv(csv_path,encoding='latin1')\n",
    "print('Data loaded')"
   ]
  },
  {
   "cell_type": "code",
   "execution_count": null,
   "id": "d9e77144",
   "metadata": {},
   "outputs": [],
   "source": [
    "Neighbourhoods = list(df.columns.values)\n",
    "Neighbourhoods = Neighbourhoods[5:]\n",
    "print(Neighbourhoods)"
   ]
  },
  {
   "cell_type": "code",
   "execution_count": null,
   "id": "6229bac5",
   "metadata": {},
   "outputs": [],
   "source": [
    "dfToronto = pd.DataFrame(index=Neighbourhoods, columns=[\"Population_2016\",\"Income_2016\"])\n",
    "dfToronto.head()"
   ]
  },
  {
   "cell_type": "code",
   "execution_count": null,
   "id": "39414a20",
   "metadata": {},
   "outputs": [],
   "source": [
    "# Population_2016 = Population, 2016\n",
    "# Income_2016 = Total income: Average amount ($)\n",
    "\n",
    "\n",
    "for index, row in dfToronto.iterrows():\n",
    "    dfToronto.at[index, 'Population_2016'] = df[index][2]\n",
    "    dfToronto.at[index, 'Income_2016'] = df[index][2264]\n",
    "    \n",
    "\n",
    "dfToronto.sort_values('Income_2016')"
   ]
  },
  {
   "cell_type": "code",
   "execution_count": null,
   "id": "04081b7c",
   "metadata": {},
   "outputs": [],
   "source": []
  }
 ],
 "metadata": {
  "kernelspec": {
   "display_name": "Python 3",
   "language": "python",
   "name": "python3"
  },
  "language_info": {
   "codemirror_mode": {
    "name": "ipython",
    "version": 3
   },
   "file_extension": ".py",
   "mimetype": "text/x-python",
   "name": "python",
   "nbconvert_exporter": "python",
   "pygments_lexer": "ipython3",
   "version": "3.9.5"
  }
 },
 "nbformat": 4,
 "nbformat_minor": 5
}
